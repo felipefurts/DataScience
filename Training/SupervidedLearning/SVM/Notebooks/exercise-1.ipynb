{
 "cells": [
  {
   "cell_type": "markdown",
   "metadata": {},
   "source": [
    "# ** INF-616 - Exercício 1 - Aula 3/4: Exemplo SVM Regressor**\n",
    "Professor: Ricardo da Silva Torres -- rtorres@ic.unicamp.br \n",
    "\n",
    "Professor: Alexandre Ferreira -- melloferreira@ic.unicamp.br\n",
    "\n",
    "Monitor: Lucas David -- lucasolivdavid@gmail.com\n",
    "\n",
    "\n",
    "Este notebook faz parte da disciplina INF-616 no curso de extensão MDC.\n",
    "Demais artefatos podem ser encontrados no moodle da disciplina.\n",
    "\n",
    "\n",
    "Instituto de Computação - Unicamp 2019"
   ]
  },
  {
   "cell_type": "markdown",
   "metadata": {},
   "source": [
    "## Treine um SVM regressor no dataset California housing\n",
    "Os resultaos seriam diferentes caso fosse usado um grid search?"
   ]
  },
  {
   "cell_type": "markdown",
   "metadata": {},
   "source": [
    "Carregar dados: `fetch_california_housing()` function:"
   ]
  },
  {
   "cell_type": "code",
   "execution_count": 2,
   "metadata": {},
   "outputs": [],
   "source": [
    "import numpy as np\n",
    "from sklearn.datasets import fetch_california_housing\n",
    "\n",
    "housing = fetch_california_housing()\n",
    "X = housing[\"data\"]\n",
    "y = housing[\"target\"]"
   ]
  },
  {
   "cell_type": "markdown",
   "metadata": {},
   "source": [
    "Divida o data set em treino e teste:"
   ]
  },
  {
   "cell_type": "code",
   "execution_count": 3,
   "metadata": {
    "collapsed": true
   },
   "outputs": [],
   "source": [
    "from sklearn.model_selection import train_test_split\n",
    "\n",
    "X_train, X_test, y_train, y_test = train_test_split(X, y, test_size=0.2, random_state=42)"
   ]
  },
  {
   "cell_type": "markdown",
   "metadata": {},
   "source": [
    "Escale os dados:"
   ]
  },
  {
   "cell_type": "code",
   "execution_count": 4,
   "metadata": {
    "collapsed": true
   },
   "outputs": [],
   "source": [
    "from sklearn.preprocessing import StandardScaler\n",
    "\n",
    "scaler = StandardScaler()\n",
    "X_train_scaled = scaler.fit_transform(X_train)\n",
    "X_test_scaled = scaler.transform(X_test)"
   ]
  },
  {
   "cell_type": "markdown",
   "metadata": {},
   "source": [
    "Treine o `LinearSVR` primeiro:"
   ]
  },
  {
   "cell_type": "code",
   "execution_count": 5,
   "metadata": {},
   "outputs": [
    {
     "data": {
      "text/plain": [
       "LinearSVR(C=1.0, dual=True, epsilon=0.0, fit_intercept=True,\n",
       "     intercept_scaling=1.0, loss='epsilon_insensitive', max_iter=1000,\n",
       "     random_state=42, tol=0.0001, verbose=0)"
      ]
     },
     "execution_count": 5,
     "metadata": {},
     "output_type": "execute_result"
    }
   ],
   "source": [
    "from sklearn.svm import LinearSVR\n",
    "\n",
    "lin_svr = LinearSVR(random_state=42)\n",
    "lin_svr.fit(X_train_scaled, y_train)"
   ]
  },
  {
   "cell_type": "markdown",
   "metadata": {},
   "source": [
    "Desempenho no conjunto de treinamento:"
   ]
  },
  {
   "cell_type": "code",
   "execution_count": 6,
   "metadata": {},
   "outputs": [
    {
     "data": {
      "text/plain": [
       "0.95451704407337401"
      ]
     },
     "execution_count": 6,
     "metadata": {},
     "output_type": "execute_result"
    }
   ],
   "source": [
    "from sklearn.metrics import mean_squared_error\n",
    "\n",
    "y_pred = lin_svr.predict(X_train_scaled)\n",
    "mse = mean_squared_error(y_train, y_pred)\n",
    "mse"
   ]
  },
  {
   "cell_type": "markdown",
   "metadata": {},
   "source": [
    "Checar o erro (RMSE):"
   ]
  },
  {
   "cell_type": "code",
   "execution_count": 7,
   "metadata": {},
   "outputs": [
    {
     "data": {
      "text/plain": [
       "0.97699388128758202"
      ]
     },
     "execution_count": 7,
     "metadata": {},
     "output_type": "execute_result"
    }
   ],
   "source": [
    "np.sqrt(mse)"
   ]
  },
  {
   "cell_type": "markdown",
   "metadata": {},
   "source": [
    "Erro muito grande. Vamos ver se o Kernel RBF leva a resultados melhores. Primeiramente, vamos encontrar os melhores parâmetris de `C` e `gamma`:"
   ]
  },
  {
   "cell_type": "code",
   "execution_count": 8,
   "metadata": {},
   "outputs": [
    {
     "name": "stdout",
     "output_type": "stream",
     "text": [
      "Fitting 3 folds for each of 10 candidates, totalling 30 fits\n",
      "[CV] C=4.74540118847, gamma=0.0796945481864 ..........................\n",
      "[CV] ........... C=4.74540118847, gamma=0.0796945481864, total=   4.8s\n",
      "[CV] C=4.74540118847, gamma=0.0796945481864 ..........................\n"
     ]
    },
    {
     "name": "stderr",
     "output_type": "stream",
     "text": [
      "[Parallel(n_jobs=1)]: Done   1 out of   1 | elapsed:    6.5s remaining:    0.0s\n"
     ]
    },
    {
     "name": "stdout",
     "output_type": "stream",
     "text": [
      "[CV] ........... C=4.74540118847, gamma=0.0796945481864, total=   4.7s\n",
      "[CV] C=4.74540118847, gamma=0.0796945481864 ..........................\n",
      "[CV] ........... C=4.74540118847, gamma=0.0796945481864, total=   4.8s\n",
      "[CV] C=8.31993941811, gamma=0.0157513204998 ..........................\n",
      "[CV] ........... C=8.31993941811, gamma=0.0157513204998, total=   4.4s\n",
      "[CV] C=8.31993941811, gamma=0.0157513204998 ..........................\n",
      "[CV] ........... C=8.31993941811, gamma=0.0157513204998, total=   4.3s\n",
      "[CV] C=8.31993941811, gamma=0.0157513204998 ..........................\n",
      "[CV] ........... C=8.31993941811, gamma=0.0157513204998, total=   4.5s\n",
      "[CV] C=2.56018640442, gamma=0.00205111041884 .........................\n",
      "[CV] .......... C=2.56018640442, gamma=0.00205111041884, total=   4.1s\n",
      "[CV] C=2.56018640442, gamma=0.00205111041884 .........................\n",
      "[CV] .......... C=2.56018640442, gamma=0.00205111041884, total=   4.1s\n",
      "[CV] C=2.56018640442, gamma=0.00205111041884 .........................\n",
      "[CV] .......... C=2.56018640442, gamma=0.00205111041884, total=   4.1s\n",
      "[CV] C=1.58083612168, gamma=0.0539948440979 ..........................\n",
      "[CV] ........... C=1.58083612168, gamma=0.0539948440979, total=   4.1s\n",
      "[CV] C=1.58083612168, gamma=0.0539948440979 ..........................\n",
      "[CV] ........... C=1.58083612168, gamma=0.0539948440979, total=   4.0s\n",
      "[CV] C=1.58083612168, gamma=0.0539948440979 ..........................\n",
      "[CV] ........... C=1.58083612168, gamma=0.0539948440979, total=   4.1s\n",
      "[CV] C=7.01115011743, gamma=0.0260702475837 ..........................\n",
      "[CV] ........... C=7.01115011743, gamma=0.0260702475837, total=   4.6s\n",
      "[CV] C=7.01115011743, gamma=0.0260702475837 ..........................\n",
      "[CV] ........... C=7.01115011743, gamma=0.0260702475837, total=   4.6s\n",
      "[CV] C=7.01115011743, gamma=0.0260702475837 ..........................\n",
      "[CV] ........... C=7.01115011743, gamma=0.0260702475837, total=   4.6s\n",
      "[CV] C=1.20584494296, gamma=0.087060208783 ...........................\n",
      "[CV] ............ C=1.20584494296, gamma=0.087060208783, total=   4.1s\n",
      "[CV] C=1.20584494296, gamma=0.087060208783 ...........................\n",
      "[CV] ............ C=1.20584494296, gamma=0.087060208783, total=   4.1s\n",
      "[CV] C=1.20584494296, gamma=0.087060208783 ...........................\n",
      "[CV] ............ C=1.20584494296, gamma=0.087060208783, total=   4.1s\n",
      "[CV] C=9.324426408, gamma=0.00265875439833 ...........................\n",
      "[CV] ............ C=9.324426408, gamma=0.00265875439833, total=   4.2s\n",
      "[CV] C=9.324426408, gamma=0.00265875439833 ...........................\n",
      "[CV] ............ C=9.324426408, gamma=0.00265875439833, total=   4.2s\n",
      "[CV] C=9.324426408, gamma=0.00265875439833 ...........................\n",
      "[CV] ............ C=9.324426408, gamma=0.00265875439833, total=   4.1s\n",
      "[CV] C=2.81824967207, gamma=0.00232706770838 .........................\n",
      "[CV] .......... C=2.81824967207, gamma=0.00232706770838, total=   4.1s\n",
      "[CV] C=2.81824967207, gamma=0.00232706770838 .........................\n",
      "[CV] .......... C=2.81824967207, gamma=0.00232706770838, total=   4.1s\n",
      "[CV] C=2.81824967207, gamma=0.00232706770838 .........................\n",
      "[CV] .......... C=2.81824967207, gamma=0.00232706770838, total=   4.2s\n",
      "[CV] C=4.0424224296, gamma=0.0112076062119 ...........................\n",
      "[CV] ............ C=4.0424224296, gamma=0.0112076062119, total=   4.2s\n",
      "[CV] C=4.0424224296, gamma=0.0112076062119 ...........................\n",
      "[CV] ............ C=4.0424224296, gamma=0.0112076062119, total=   4.1s\n",
      "[CV] C=4.0424224296, gamma=0.0112076062119 ...........................\n",
      "[CV] ............ C=4.0424224296, gamma=0.0112076062119, total=   4.1s\n",
      "[CV] C=5.31945018642, gamma=0.00382347522468 .........................\n",
      "[CV] .......... C=5.31945018642, gamma=0.00382347522468, total=   4.1s\n",
      "[CV] C=5.31945018642, gamma=0.00382347522468 .........................\n",
      "[CV] .......... C=5.31945018642, gamma=0.00382347522468, total=   4.1s\n",
      "[CV] C=5.31945018642, gamma=0.00382347522468 .........................\n",
      "[CV] .......... C=5.31945018642, gamma=0.00382347522468, total=   4.1s\n"
     ]
    },
    {
     "name": "stderr",
     "output_type": "stream",
     "text": [
      "[Parallel(n_jobs=1)]: Done  30 out of  30 | elapsed:  3.0min finished\n"
     ]
    },
    {
     "data": {
      "text/plain": [
       "RandomizedSearchCV(cv=3, error_score='raise',\n",
       "          estimator=SVR(C=1.0, cache_size=200, coef0=0.0, degree=3, epsilon=0.1, gamma='auto',\n",
       "  kernel='rbf', max_iter=-1, shrinking=True, tol=0.001, verbose=False),\n",
       "          fit_params=None, iid=True, n_iter=10, n_jobs=1,\n",
       "          param_distributions={'gamma': <scipy.stats._distn_infrastructure.rv_frozen object at 0x1a12499a20>, 'C': <scipy.stats._distn_infrastructure.rv_frozen object at 0x1a12499fd0>},\n",
       "          pre_dispatch='2*n_jobs', random_state=42, refit=True,\n",
       "          return_train_score=True, scoring=None, verbose=2)"
      ]
     },
     "execution_count": 8,
     "metadata": {},
     "output_type": "execute_result"
    }
   ],
   "source": [
    "from sklearn.svm import SVR\n",
    "from sklearn.model_selection import RandomizedSearchCV\n",
    "from scipy.stats import reciprocal, uniform\n",
    "\n",
    "param_distributions = {\"gamma\": reciprocal(0.001, 0.1), \"C\": uniform(1, 10)}\n",
    "rnd_search_cv = RandomizedSearchCV(SVR(), param_distributions, n_iter=10, verbose=2, cv=3, random_state=42)\n",
    "rnd_search_cv.fit(X_train_scaled, y_train)"
   ]
  },
  {
   "cell_type": "code",
   "execution_count": 9,
   "metadata": {
    "scrolled": true
   },
   "outputs": [
    {
     "data": {
      "text/plain": [
       "SVR(C=4.7454011884736254, cache_size=200, coef0=0.0, degree=3, epsilon=0.1,\n",
       "  gamma=0.079694548186439285, kernel='rbf', max_iter=-1, shrinking=True,\n",
       "  tol=0.001, verbose=False)"
      ]
     },
     "execution_count": 9,
     "metadata": {},
     "output_type": "execute_result"
    }
   ],
   "source": [
    "rnd_search_cv.best_estimator_"
   ]
  },
  {
   "cell_type": "markdown",
   "metadata": {},
   "source": [
    "Medindo o erro novamente no treino:"
   ]
  },
  {
   "cell_type": "code",
   "execution_count": 12,
   "metadata": {},
   "outputs": [
    {
     "data": {
      "text/plain": [
       "0.57275247707853594"
      ]
     },
     "execution_count": 12,
     "metadata": {},
     "output_type": "execute_result"
    }
   ],
   "source": [
    "y_pred = rnd_search_cv.best_estimator_.predict(X_train_scaled)\n",
    "mse = mean_squared_error(y_train, y_pred)\n",
    "np.sqrt(mse)"
   ]
  },
  {
   "cell_type": "markdown",
   "metadata": {},
   "source": [
    "Parece bem melhor. Vamos ver no conjunto de teste:"
   ]
  },
  {
   "cell_type": "code",
   "execution_count": 13,
   "metadata": {},
   "outputs": [
    {
     "data": {
      "text/plain": [
       "0.59291683855287336"
      ]
     },
     "execution_count": 13,
     "metadata": {},
     "output_type": "execute_result"
    }
   ],
   "source": [
    "y_pred = rnd_search_cv.best_estimator_.predict(X_test_scaled)\n",
    "mse = mean_squared_error(y_test, y_pred)\n",
    "np.sqrt(mse)"
   ]
  },
  {
   "cell_type": "code",
   "execution_count": null,
   "metadata": {
    "collapsed": true
   },
   "outputs": [],
   "source": []
  }
 ],
 "metadata": {
  "kernelspec": {
   "display_name": "Python 3",
   "language": "python",
   "name": "python3"
  },
  "language_info": {
   "codemirror_mode": {
    "name": "ipython",
    "version": 3
   },
   "file_extension": ".py",
   "mimetype": "text/x-python",
   "name": "python",
   "nbconvert_exporter": "python",
   "pygments_lexer": "ipython3",
   "version": "3.6.8"
  },
  "nav_menu": {},
  "toc": {
   "navigate_menu": true,
   "number_sections": true,
   "sideBar": true,
   "threshold": 6,
   "toc_cell": false,
   "toc_section_display": "block",
   "toc_window_display": false
  }
 },
 "nbformat": 4,
 "nbformat_minor": 1
}
